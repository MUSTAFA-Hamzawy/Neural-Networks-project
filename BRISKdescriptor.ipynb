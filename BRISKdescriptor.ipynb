{
 "cells": [
  {
   "cell_type": "code",
   "execution_count": 1,
   "metadata": {},
   "outputs": [],
   "source": [
    "import cv2\n",
    "import numpy as np\n",
    "import os\n",
    "import pandas as pd\n",
    "import csv\n",
    "\n",
    "from sklearn.cluster import MiniBatchKMeans\n",
    "# from sklearn.neural_network import MLPClassifier\n",
    "import matplotlib.pyplot as plt\n",
    "import glob\n",
    "import joblib\n",
    "from sklearn.svm import SVC\n",
    "from sklearn.model_selection import train_test_split\n",
    "from sklearn.utils import shuffle\n",
    "from sklearn import metrics\n",
    "from commonFunctions import *"
   ]
  },
  {
   "cell_type": "code",
   "execution_count": 2,
   "metadata": {},
   "outputs": [],
   "source": [
    "def shadow_removalDialate(img):\n",
    "    # img2 = cv2.imread(f'../Dataset_0-5/men/{num}/4_men (49).JPG')\n",
    "    img2 = cv2.resize(img, (256, 256))\n",
    "    \n",
    "    img_hls = cv2.cvtColor(img2, cv2.COLOR_BGR2HLS)\n",
    "\n",
    "    # define lower and upper bounds for blue color in HLS format\n",
    "    lower_blue = np.array([0, 0, 60])\n",
    "    upper_blue = np.array([20, 255, 255])\n",
    "\n",
    "    # create a mask for blue color in HLS format\n",
    "    mask = cv2.inRange(img_hls, lower_blue, upper_blue)\n",
    "    # daialation\n",
    "    kernel = np.ones((3,3),np.uint8)\n",
    "    mask = cv2.dilate(mask,kernel,iterations = 8)\n",
    "    # apply the mask to the original image\n",
    "    result = cv2.bitwise_and(img2, img2, mask=mask)\n",
    "    return result"
   ]
  },
  {
   "cell_type": "code",
   "execution_count": 3,
   "metadata": {},
   "outputs": [],
   "source": [
    "def preprocessing(img,img2):\n",
    "    # Convert the image to grayscale\n",
    "    gray = cv2.cvtColor(img, cv2.COLOR_BGR2GRAY)\n",
    "\n",
    "    # Apply histogram equalization to enhance contrast and remove lighting effects\n",
    "    equalized = cv2.equalizeHist(gray)\n",
    "    io.imshow(equalized)\n",
    "    # # Find the contours of the binary image\n",
    "    contours, hierarchy = cv2.findContours(equalized, cv2.RETR_EXTERNAL, cv2.CHAIN_APPROX_SIMPLE)\n",
    "    max_contour = max(contours, key=cv2.contourArea)\n",
    "\n",
    "    # # Draw the largest contour on the original image\n",
    "    cv2.drawContours(img2, [max_contour], 0, (0, 255, 0), 2)\n",
    "    io.imshow(img2)\n",
    "    # # Show the image with the largest contour drawn\n",
    "    # # Create a bounding box around the hand\n",
    "    x, y, w, h = cv2.boundingRect(max_contour)\n",
    "\n",
    "    # # Crop the image to the bounding box around the hand\n",
    "    hand = equalized[y:y+h, x:x+w]\n",
    "    img3 = cv2.resize(hand, (256, 256))\n",
    "\n",
    "    return img3"
   ]
  },
  {
   "cell_type": "code",
   "execution_count": 4,
   "metadata": {},
   "outputs": [],
   "source": [
    "arr = [\"0\",\"1\",\"2\",\"3\",\"4\",\"5\"]\n",
    "dico = []\n",
    "\n",
    "\n",
    "for label in arr:\n",
    "    dirList = glob.glob(\"../Dataset_0-5/men/\"+str(label)+\"/*.jpg\")\n",
    "    \n",
    "    for img_path in dirList:\n",
    "        try:\n",
    "            im= cv2.imread(img_path)\n",
    "            hand = shadow_removalDialate(im)\n",
    "            result = preprocessing(hand,im)\n",
    "                   \n",
    "            surf = cv2.xfeatures2d.SURF_create()\n",
    "            kp, des = surf.detectAndCompute(result, None)\n",
    "            for d in des:\n",
    "                dico.append(d)\n",
    "        except:\n",
    "            pass\n",
    "        "
   ]
  },
  {
   "cell_type": "code",
   "execution_count": null,
   "metadata": {},
   "outputs": [],
   "source": [
    "from sklearn.cluster import KMeans\n",
    "kmeans = KMeans(n_clusters=120)\n",
    "kmeans.fit(dico)\n",
    "joblib.dump(kmeans, \"model/surfkmeans.pkl\")"
   ]
  },
  {
   "cell_type": "code",
   "execution_count": null,
   "metadata": {},
   "outputs": [],
   "source": [
    "histo_list = []\n",
    "Y = []\n",
    "arr = [\"0\",\"1\",\"2\",\"3\",\"4\",\"5\"]\n",
    "\n",
    "lower_blue = np.array([0, 0, 65])\n",
    "upper_blue = np.array([20, 255, 255])\n",
    "\n",
    "\n",
    "for label in arr:\n",
    "    dirList = glob.glob(\"../Dataset_0-5/men/\"+str(label)+\"/*.jpg\")\n",
    "    \n",
    "    for img_path in dirList:\n",
    "        try:\n",
    "            im= cv2.imread(img_path)\n",
    "            hand = shadow_removalDialate(im)\n",
    "            result = preprocessing(hand,im)\n",
    "                   \n",
    "            surf = cv2.xfeatures2d.SURF_create()\n",
    "            kp, des = surf.detectAndCompute(result, None)\n",
    "            histo = np.zeros(120)\n",
    "            nkp = np.size(kp)\n",
    "            for d in des:\n",
    "                idx = kmeans.predict([d])\n",
    "                histo[idx] += 1/nkp # Because we need normalized histograms, I prefere to add 1/nkp directly\n",
    "\n",
    "            histo_list.append(histo)\n",
    "            Y.append(int(label))\n",
    "        except:\n",
    "            pass"
   ]
  },
  {
   "cell_type": "code",
   "execution_count": null,
   "metadata": {},
   "outputs": [],
   "source": [
    "X = np.array(histo_list)\n",
    "train_x,test_x,train_y,test_y = train_test_split(histo_list,Y, test_size = 0.2)\n",
    "classifier=SVC(kernel=\"poly\", random_state=6, degree=6)\n",
    "classifier.fit(train_x,train_y)\n",
    "joblib.dump(classifier, \"model/surf_model.pkl\")"
   ]
  },
  {
   "cell_type": "code",
   "execution_count": null,
   "metadata": {},
   "outputs": [],
   "source": [
    "from sklearn import metrics\n",
    "\n",
    "prediction=classifier.predict(test_x)\n",
    "print(\"Accuracy= \",metrics.accuracy_score(prediction, test_y))\n",
    "print(\"Precision= \",metrics.precision_score(prediction, test_y, average='weighted'))\n",
    "print(\"Recall= \",metrics.recall_score(prediction, test_y, average='weighted'))\n",
    "print(\"F1 Score= \",metrics.f1_score(prediction, test_y, average='weighted'))\n",
    "print(\"Confusion Matrix= \",metrics.confusion_matrix(prediction, test_y))\n",
    "print(\"Classification Report= \",metrics.classification_report(prediction, test_y))"
   ]
  }
 ],
 "metadata": {
  "kernelspec": {
   "display_name": "Python 3",
   "language": "python",
   "name": "python3"
  },
  "language_info": {
   "codemirror_mode": {
    "name": "ipython",
    "version": 3
   },
   "file_extension": ".py",
   "mimetype": "text/x-python",
   "name": "python",
   "nbconvert_exporter": "python",
   "pygments_lexer": "ipython3",
   "version": "3.10.8"
  },
  "orig_nbformat": 4
 },
 "nbformat": 4,
 "nbformat_minor": 2
}
