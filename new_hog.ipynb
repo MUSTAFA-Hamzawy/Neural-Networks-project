{
 "cells": [
  {
   "cell_type": "code",
   "execution_count": 1,
   "metadata": {},
   "outputs": [],
   "source": [
    "import cv2"
   ]
  },
  {
   "cell_type": "code",
   "execution_count": 2,
   "metadata": {},
   "outputs": [
    {
     "name": "stdout",
     "output_type": "stream",
     "text": [
      "(664603380,)"
     ]
    },
    {
     "ename": "KeyboardInterrupt",
     "evalue": "",
     "output_type": "error",
     "traceback": [
      "\u001b[1;31m---------------------------------------------------------------------------\u001b[0m",
      "\u001b[1;31mKeyboardInterrupt\u001b[0m                         Traceback (most recent call last)",
      "\u001b[1;32md:\\NeuralNetwork\\project\\Neural-Networks-project\\new_hog.ipynb Cell 2\u001b[0m in \u001b[0;36m1\n\u001b[0;32m      <a href='vscode-notebook-cell:/d%3A/NeuralNetwork/project/Neural-Networks-project/new_hog.ipynb#W0sZmlsZQ%3D%3D?line=8'>9</a>\u001b[0m \u001b[39m# Create a HOG descriptor object\u001b[39;00m\n\u001b[0;32m     <a href='vscode-notebook-cell:/d%3A/NeuralNetwork/project/Neural-Networks-project/new_hog.ipynb#W0sZmlsZQ%3D%3D?line=9'>10</a>\u001b[0m hog \u001b[39m=\u001b[39m cv2\u001b[39m.\u001b[39mHOGDescriptor(win_size, block_size, block_stride, cell_size, nbins)\n\u001b[1;32m---> <a href='vscode-notebook-cell:/d%3A/NeuralNetwork/project/Neural-Networks-project/new_hog.ipynb#W0sZmlsZQ%3D%3D?line=10'>11</a>\u001b[0m \u001b[39mprint\u001b[39;49m(hog\u001b[39m.\u001b[39;49mcompute(img)\u001b[39m.\u001b[39;49mshape)\n\u001b[0;32m     <a href='vscode-notebook-cell:/d%3A/NeuralNetwork/project/Neural-Networks-project/new_hog.ipynb#W0sZmlsZQ%3D%3D?line=11'>12</a>\u001b[0m \u001b[39m# print(hog.compute(gray_img).flatten().max())\u001b[39;00m\n",
      "File \u001b[1;32m~\\AppData\\Roaming\\Python\\Python310\\site-packages\\ipykernel\\iostream.py:553\u001b[0m, in \u001b[0;36mOutStream.write\u001b[1;34m(self, string)\u001b[0m\n\u001b[0;32m    551\u001b[0m \u001b[39m# only touch the buffer in the IO thread to avoid races\u001b[39;00m\n\u001b[0;32m    552\u001b[0m \u001b[39mwith\u001b[39;00m \u001b[39mself\u001b[39m\u001b[39m.\u001b[39m_buffer_lock:\n\u001b[1;32m--> 553\u001b[0m     \u001b[39mself\u001b[39;49m\u001b[39m.\u001b[39;49m_buffer\u001b[39m.\u001b[39;49mwrite(string)\n\u001b[0;32m    554\u001b[0m \u001b[39mif\u001b[39;00m is_child:\n\u001b[0;32m    555\u001b[0m     \u001b[39m# mp.Pool cannot be trusted to flush promptly (or ever),\u001b[39;00m\n\u001b[0;32m    556\u001b[0m     \u001b[39m# and this helps.\u001b[39;00m\n\u001b[0;32m    557\u001b[0m     \u001b[39mif\u001b[39;00m \u001b[39mself\u001b[39m\u001b[39m.\u001b[39m_subprocess_flush_pending:\n",
      "\u001b[1;31mKeyboardInterrupt\u001b[0m: "
     ]
    }
   ],
   "source": [
    "img = cv2.imread('../Dataset_0-5/men/1/1_men (109).JPG')\n",
    "gray = cv2.cvtColor(img, cv2.COLOR_BGR2GRAY)\n",
    "\n",
    "win_size = (64, 128)\n",
    "block_size = (16, 16)\n",
    "block_stride = (8, 8)\n",
    "cell_size = (8, 8)\n",
    "nbins = 9\n",
    "\n",
    "# Create a HOG descriptor object\n",
    "hog = cv2.HOGDescriptor(win_size, block_size, block_stride, cell_size, nbins)\n",
    "print(hog.compute(gray).shape)\n",
    "# print(hog.compute(gray_img).flatten().max())"
   ]
  },
  {
   "cell_type": "code",
   "execution_count": null,
   "metadata": {},
   "outputs": [],
   "source": []
  }
 ],
 "metadata": {
  "kernelspec": {
   "display_name": "Python 3",
   "language": "python",
   "name": "python3"
  },
  "language_info": {
   "codemirror_mode": {
    "name": "ipython",
    "version": 3
   },
   "file_extension": ".py",
   "mimetype": "text/x-python",
   "name": "python",
   "nbconvert_exporter": "python",
   "pygments_lexer": "ipython3",
   "version": "3.10.8"
  },
  "orig_nbformat": 4
 },
 "nbformat": 4,
 "nbformat_minor": 2
}
