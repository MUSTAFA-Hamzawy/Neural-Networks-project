{
 "cells": [
  {
   "cell_type": "code",
   "execution_count": 1,
   "metadata": {},
   "outputs": [],
   "source": [
    "import cv2\n",
    "import numpy as np\n",
    "import os\n",
    "import pandas as pd\n",
    "import csv\n",
    "\n",
    "from sklearn.cluster import MiniBatchKMeans\n",
    "from sklearn.neural_network import MLPClassifier"
   ]
  },
  {
   "cell_type": "code",
   "execution_count": null,
   "metadata": {},
   "outputs": [],
   "source": [
    "img_path = '../input/images/'\n",
    "train = pd.read_csv('../input/train.csv')\n",
    "species = train.species.sort_values().unique()\n",
    "\n",
    "dico = []\n",
    "\n",
    "def step1():\n",
    "    for leaf in train.id:\n",
    "        img = cv2.imread(img_path + str(leaf) + \".jpg\")\n",
    "        kp, des = cv2.sift.detectAndCompute(img, None)\n",
    "\n",
    "        for d in des:\n",
    "            dico.append(d)"
   ]
  },
  {
   "cell_type": "code",
   "execution_count": null,
   "metadata": {},
   "outputs": [],
   "source": [
    "def step2():\n",
    "    k = np.size(species) * 10\n",
    "\n",
    "    batch_size = np.size(os.listdir(img_path)) * 3\n",
    "    kmeans = MiniBatchKMeans(n_clusters=k, batch_size=batch_size, verbose=1).fit(dico)"
   ]
  },
  {
   "cell_type": "code",
   "execution_count": null,
   "metadata": {},
   "outputs": [],
   "source": [
    "def step3():\n",
    "    kmeans.verbose = False\n",
    "\n",
    "    histo_list = []\n",
    "\n",
    "    for leaf in train.id:\n",
    "        img = cv2.imread(img_path + str(leaf) + \".jpg\")\n",
    "        kp, des = sift.detectAndCompute(img, None)\n",
    "\n",
    "        histo = np.zeros(k)\n",
    "        nkp = np.size(kp)\n",
    "\n",
    "        for d in des:\n",
    "            idx = kmeans.predict([d])\n",
    "            histo[idx] += 1/nkp # Because we need normalized histograms, I prefere to add 1/nkp directly\n",
    "\n",
    "        histo_list.append(histo)"
   ]
  },
  {
   "cell_type": "code",
   "execution_count": null,
   "metadata": {},
   "outputs": [],
   "source": [
    "def step4():\n",
    "    X = np.array(histo_list)\n",
    "    Y = []\n",
    "\n",
    "    # It's a way to convert species name into an integer\n",
    "    for s in train.species:\n",
    "        Y.append(np.min(np.nonzero(species == s)))\n",
    "\n",
    "    mlp = MLPClassifier(verbose=True, max_iter=600000)\n",
    "    mlp.fit(X, Y)"
   ]
  }
 ],
 "metadata": {
  "kernelspec": {
   "display_name": "Python 3",
   "language": "python",
   "name": "python3"
  },
  "language_info": {
   "codemirror_mode": {
    "name": "ipython",
    "version": 3
   },
   "file_extension": ".py",
   "mimetype": "text/x-python",
   "name": "python",
   "nbconvert_exporter": "python",
   "pygments_lexer": "ipython3",
   "version": "3.10.8"
  },
  "orig_nbformat": 4
 },
 "nbformat": 4,
 "nbformat_minor": 2
}
